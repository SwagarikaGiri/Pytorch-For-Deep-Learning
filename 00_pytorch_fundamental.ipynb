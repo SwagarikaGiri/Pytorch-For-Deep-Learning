{
 "cells": [
  {
   "cell_type": "code",
   "execution_count": 118,
   "metadata": {},
   "outputs": [
    {
     "name": "stdout",
     "output_type": "stream",
     "text": [
      "Hello\n"
     ]
    }
   ],
   "source": [
    "print(\"Hello\")"
   ]
  },
  {
   "cell_type": "code",
   "execution_count": 119,
   "metadata": {},
   "outputs": [
    {
     "name": "stdout",
     "output_type": "stream",
     "text": [
      "2.1.0+cu121\n"
     ]
    }
   ],
   "source": [
    "import torch\n",
    "import pandas as pd\n",
    "import numpy as np\n",
    "import matplotlib.pyplot as plt \n",
    "print(torch.__version__)"
   ]
  },
  {
   "attachments": {},
   "cell_type": "markdown",
   "metadata": {},
   "source": [
    "## Introduction to tensors\n",
    "\n",
    "#### Creating tensors"
   ]
  },
  {
   "cell_type": "code",
   "execution_count": 120,
   "metadata": {},
   "outputs": [
    {
     "data": {
      "text/plain": [
       "tensor(7)"
      ]
     },
     "execution_count": 120,
     "metadata": {},
     "output_type": "execute_result"
    }
   ],
   "source": [
    "# scalar\n",
    "scalar = torch.tensor(7)\n",
    "scalar"
   ]
  },
  {
   "cell_type": "code",
   "execution_count": 121,
   "metadata": {},
   "outputs": [
    {
     "data": {
      "text/plain": [
       "tensor([[1, 2, 3],\n",
       "        [4, 5, 6]])"
      ]
     },
     "execution_count": 121,
     "metadata": {},
     "output_type": "execute_result"
    }
   ],
   "source": [
    "torch.tensor([[1.0,-1],[1.,-1.]])\n",
    "torch.tensor(np.array([[1,2,3],[4,5,6]]))\n"
   ]
  },
  {
   "attachments": {},
   "cell_type": "markdown",
   "metadata": {},
   "source": [
    "##### tensor always copies data. Use requires_grad to change the requires_grad \n",
    "##### use detach() to avoid making copy"
   ]
  },
  {
   "cell_type": "code",
   "execution_count": 122,
   "metadata": {},
   "outputs": [
    {
     "data": {
      "text/plain": [
       "tensor([[0., 0., 0., 0.],\n",
       "        [0., 0., 0., 0.]])"
      ]
     },
     "execution_count": 122,
     "metadata": {},
     "output_type": "execute_result"
    }
   ],
   "source": [
    "torch.zeros([2,4],dtype=torch.int32)\n",
    "torch.zeros([2,4],dtype=torch.float32) "
   ]
  },
  {
   "attachments": {},
   "cell_type": "markdown",
   "metadata": {},
   "source": []
  },
  {
   "cell_type": "code",
   "execution_count": 123,
   "metadata": {},
   "outputs": [
    {
     "data": {
      "text/plain": [
       "tensor([[1., 1., 1., 1.],\n",
       "        [1., 1., 1., 1.]], device='cuda:1', dtype=torch.float16)"
      ]
     },
     "execution_count": 123,
     "metadata": {},
     "output_type": "execute_result"
    }
   ],
   "source": [
    "cuda0 = torch.device('cuda:1')\n",
    "torch.ones([2,4],dtype=torch.float16,device=cuda0)"
   ]
  },
  {
   "cell_type": "code",
   "execution_count": 124,
   "metadata": {},
   "outputs": [
    {
     "name": "stdout",
     "output_type": "stream",
     "text": [
      "0\n"
     ]
    }
   ],
   "source": [
    "scalar = torch.tensor(7)\n",
    "print(scalar.ndim)"
   ]
  },
  {
   "cell_type": "code",
   "execution_count": 125,
   "metadata": {},
   "outputs": [
    {
     "name": "stdout",
     "output_type": "stream",
     "text": [
      "1\n"
     ]
    }
   ],
   "source": [
    "vector = torch.tensor([7,7])\n",
    "print(vector.ndim)"
   ]
  },
  {
   "cell_type": "code",
   "execution_count": 126,
   "metadata": {},
   "outputs": [
    {
     "name": "stdout",
     "output_type": "stream",
     "text": [
      "tensor([[6, 7],\n",
      "        [8, 9]])\n",
      "2\n",
      "torch.Size([2, 2])\n"
     ]
    }
   ],
   "source": [
    "MATRIX = torch.tensor([[6,7],[8,9]])\n",
    "print(MATRIX)\n",
    "print(MATRIX.ndim)\n",
    "print(MATRIX.shape)"
   ]
  },
  {
   "cell_type": "code",
   "execution_count": 127,
   "metadata": {},
   "outputs": [
    {
     "name": "stdout",
     "output_type": "stream",
     "text": [
      "torch.Size([1, 3, 4])\n"
     ]
    }
   ],
   "source": [
    "MATRIX = torch.tensor([[[6,7,9,8],[8,9,8,9],[3,4,8,9]]])\n",
    "print(MATRIX.shape)\n",
    "#  3,2"
   ]
  },
  {
   "cell_type": "code",
   "execution_count": 128,
   "metadata": {},
   "outputs": [
    {
     "data": {
      "text/plain": [
       "tensor([[0.6009, 0.2566, 0.7936, 0.9408],\n",
       "        [0.1332, 0.9346, 0.5936, 0.8694],\n",
       "        [0.5677, 0.7411, 0.4294, 0.8854]])"
      ]
     },
     "execution_count": 128,
     "metadata": {},
     "output_type": "execute_result"
    }
   ],
   "source": [
    "random_tensor = torch.rand(3,4)\n",
    "random_tensor"
   ]
  },
  {
   "cell_type": "code",
   "execution_count": 129,
   "metadata": {},
   "outputs": [
    {
     "name": "stdout",
     "output_type": "stream",
     "text": [
      "tensor([[[0.5739, 0.2666, 0.6274, 0.2696, 0.4414],\n",
      "         [0.2969, 0.8317, 0.1053, 0.2695, 0.3588],\n",
      "         [0.1994, 0.5472, 0.0062, 0.9516, 0.0753],\n",
      "         [0.8860, 0.5832, 0.3376, 0.8090, 0.5779]],\n",
      "\n",
      "        [[0.9040, 0.5547, 0.3423, 0.6343, 0.3644],\n",
      "         [0.7104, 0.9464, 0.7890, 0.2814, 0.7886],\n",
      "         [0.5895, 0.7539, 0.1952, 0.0050, 0.3068],\n",
      "         [0.1165, 0.9103, 0.6440, 0.7071, 0.6581]],\n",
      "\n",
      "        [[0.4913, 0.8913, 0.1447, 0.5315, 0.1587],\n",
      "         [0.6542, 0.3278, 0.6532, 0.3958, 0.9147],\n",
      "         [0.2036, 0.2018, 0.2018, 0.9497, 0.6666],\n",
      "         [0.9811, 0.0874, 0.0041, 0.1088, 0.1637]]])\n"
     ]
    }
   ],
   "source": [
    "random_image_size_tensor = torch.rand(3,4,5)\n",
    "print(random_image_size_tensor)"
   ]
  },
  {
   "cell_type": "code",
   "execution_count": 130,
   "metadata": {},
   "outputs": [
    {
     "name": "stdout",
     "output_type": "stream",
     "text": [
      "tensor([[[0.7025, 0.6790, 0.9155, 0.2418, 0.1591],\n",
      "         [0.7653, 0.2979, 0.8035, 0.3813, 0.7860],\n",
      "         [0.1115, 0.2477, 0.6524, 0.6057, 0.3725],\n",
      "         [0.7980, 0.8399, 0.1374, 0.2331, 0.9578]],\n",
      "\n",
      "        [[0.3313, 0.3227, 0.0162, 0.2137, 0.6249],\n",
      "         [0.4340, 0.1371, 0.5117, 0.1585, 0.0758],\n",
      "         [0.2247, 0.0624, 0.1816, 0.9998, 0.5944],\n",
      "         [0.6541, 0.0337, 0.1716, 0.3336, 0.5782]],\n",
      "\n",
      "        [[0.0600, 0.2846, 0.2007, 0.5014, 0.3139],\n",
      "         [0.4654, 0.1612, 0.1568, 0.2083, 0.3289],\n",
      "         [0.1054, 0.9192, 0.4008, 0.9302, 0.6558],\n",
      "         [0.0766, 0.8460, 0.3624, 0.3083, 0.0850]]])\n"
     ]
    }
   ],
   "source": [
    "random_image_size_tensor = torch.rand(size=(3,4,5))\n",
    "print(random_image_size_tensor)"
   ]
  },
  {
   "cell_type": "code",
   "execution_count": 131,
   "metadata": {},
   "outputs": [
    {
     "name": "stdout",
     "output_type": "stream",
     "text": [
      "tensor([[[0.0029, 0.6431, 0.3908,  ..., 0.7487, 0.1281, 0.4384],\n",
      "         [0.7399, 0.2686, 0.4455,  ..., 0.8359, 0.4812, 0.0297],\n",
      "         [0.5219, 0.1595, 0.9066,  ..., 0.7698, 0.9112, 0.1225],\n",
      "         ...,\n",
      "         [0.3745, 0.5269, 0.2215,  ..., 0.7190, 0.6817, 0.4030],\n",
      "         [0.2534, 0.8078, 0.3160,  ..., 0.9397, 0.9420, 0.7088],\n",
      "         [0.5670, 0.1141, 0.7658,  ..., 0.7541, 0.2575, 0.4263]],\n",
      "\n",
      "        [[0.5229, 0.2172, 0.7042,  ..., 0.6260, 0.7569, 0.8127],\n",
      "         [0.3356, 0.7617, 0.5575,  ..., 0.6409, 0.2680, 0.8416],\n",
      "         [0.1022, 0.9883, 0.9247,  ..., 0.0195, 0.3554, 0.6456],\n",
      "         ...,\n",
      "         [0.9994, 0.0078, 0.0061,  ..., 0.6077, 0.6992, 0.6176],\n",
      "         [0.4127, 0.0090, 0.6091,  ..., 0.7099, 0.9400, 0.8409],\n",
      "         [0.4196, 0.1228, 0.1440,  ..., 0.3646, 0.8498, 0.3721]],\n",
      "\n",
      "        [[0.1017, 0.2524, 0.4054,  ..., 0.1181, 0.9444, 0.1367],\n",
      "         [0.5066, 0.7729, 0.0380,  ..., 0.4347, 0.8936, 0.6735],\n",
      "         [0.5411, 0.1188, 0.6353,  ..., 0.8796, 0.5212, 0.6927],\n",
      "         ...,\n",
      "         [0.4240, 0.6725, 0.6237,  ..., 0.4566, 0.4752, 0.6964],\n",
      "         [0.6291, 0.6620, 0.3824,  ..., 0.7614, 0.7501, 0.8033],\n",
      "         [0.5784, 0.3198, 0.1533,  ..., 0.1608, 0.4923, 0.1574]]])\n"
     ]
    }
   ],
   "source": [
    "random_image_size_tensor = torch.rand(size=(3,200,200)) # height, width, color cannel\n",
    "print(random_image_size_tensor)"
   ]
  },
  {
   "cell_type": "markdown",
   "metadata": {},
   "source": [
    "### Creating a range of tensors and tensor-like"
   ]
  },
  {
   "cell_type": "code",
   "execution_count": 132,
   "metadata": {},
   "outputs": [
    {
     "name": "stdout",
     "output_type": "stream",
     "text": [
      "tensor([  1,  51, 101, 151, 201, 251, 301, 351, 401, 451, 501, 551, 601, 651,\n",
      "        701, 751, 801, 851, 901, 951])\n",
      "tensor([0, 0, 0, 0, 0, 0, 0, 0, 0, 0, 0, 0, 0, 0, 0, 0, 0, 0, 0, 0])\n"
     ]
    }
   ],
   "source": [
    "one_to_ten = torch.arange(start=1,end=1000,step=50)\n",
    "print(one_to_ten)\n",
    "zeros_like = torch.zeros_like(input=one_to_ten)\n",
    "print(zeros_like)"
   ]
  },
  {
   "cell_type": "markdown",
   "metadata": {},
   "source": [
    "### Tensors Datatype"
   ]
  },
  {
   "cell_type": "markdown",
   "metadata": {},
   "source": [
    "#### Note: Tensor datatype is one of the 3 big errors\n",
    "#### 1. Tensors not right datatypes\n",
    "#### 2. Tensors not right shape\n",
    "#### 3. Tensors not on the right device"
   ]
  },
  {
   "cell_type": "code",
   "execution_count": 133,
   "metadata": {},
   "outputs": [],
   "source": [
    "float_32_tensor = torch.tensor([1,2,4],\n",
    "                               dtype=torch.float16,\n",
    "                               device=\"cuda\", \n",
    "                               requires_grad=False) # wheather or not to track tensor."
   ]
  },
  {
   "cell_type": "code",
   "execution_count": 134,
   "metadata": {},
   "outputs": [
    {
     "data": {
      "text/plain": [
       "tensor([1., 2., 4.], device='cuda:0', dtype=torch.float16)"
      ]
     },
     "execution_count": 134,
     "metadata": {},
     "output_type": "execute_result"
    }
   ],
   "source": [
    "float_32_tensor"
   ]
  },
  {
   "cell_type": "code",
   "execution_count": 135,
   "metadata": {},
   "outputs": [
    {
     "name": "stdout",
     "output_type": "stream",
     "text": [
      " dtype torch.float32\n"
     ]
    }
   ],
   "source": [
    "some_tensors = torch.rand(3,4)\n",
    "print(f' dtype {some_tensors.dtype}')"
   ]
  },
  {
   "cell_type": "markdown",
   "metadata": {},
   "source": [
    "## Manipulating tensors\n",
    "### Tensor operation include\n",
    "* Addition\n",
    "* Subtraction\n",
    "* Multiplication ( Element-wise)\n",
    "* Division\n",
    "* Matrix"
   ]
  },
  {
   "cell_type": "code",
   "execution_count": 136,
   "metadata": {},
   "outputs": [],
   "source": [
    "random_tensor = torch.tensor([1,2,3])"
   ]
  },
  {
   "cell_type": "code",
   "execution_count": 137,
   "metadata": {},
   "outputs": [
    {
     "name": "stdout",
     "output_type": "stream",
     "text": [
      "tensor([10, 20, 30])\n",
      "tensor([11, 12, 13])\n"
     ]
    }
   ],
   "source": [
    "print(random_tensor*10)\n",
    "print(random_tensor+10)"
   ]
  },
  {
   "cell_type": "code",
   "execution_count": 138,
   "metadata": {},
   "outputs": [
    {
     "name": "stdout",
     "output_type": "stream",
     "text": [
      "tensor([10, 20, 30])\n"
     ]
    }
   ],
   "source": [
    "print(random_tensor.mul(10))"
   ]
  },
  {
   "cell_type": "markdown",
   "metadata": {},
   "source": [
    "### Tensor Agregation"
   ]
  },
  {
   "cell_type": "code",
   "execution_count": 139,
   "metadata": {},
   "outputs": [
    {
     "name": "stdout",
     "output_type": "stream",
     "text": [
      "tensor(0)\n",
      "tensor(0)\n"
     ]
    }
   ],
   "source": [
    "x = torch.arange(0,100,10)\n",
    "print(x.min())\n",
    "print(torch.min(x))"
   ]
  },
  {
   "cell_type": "code",
   "execution_count": 140,
   "metadata": {},
   "outputs": [
    {
     "name": "stdout",
     "output_type": "stream",
     "text": [
      "tensor(90)\n",
      "tensor(90)\n"
     ]
    }
   ],
   "source": [
    "x = torch.arange(0,100,10)\n",
    "print(x.max())\n",
    "print(torch.max(x))\n"
   ]
  },
  {
   "cell_type": "code",
   "execution_count": 141,
   "metadata": {},
   "outputs": [
    {
     "name": "stdout",
     "output_type": "stream",
     "text": [
      "tensor(450)\n",
      "tensor(450)\n"
     ]
    }
   ],
   "source": [
    "x = torch.arange(0,100,10)\n",
    "print(x.sum())\n",
    "print(torch.sum(x))"
   ]
  },
  {
   "cell_type": "code",
   "execution_count": 142,
   "metadata": {},
   "outputs": [
    {
     "name": "stdout",
     "output_type": "stream",
     "text": [
      "tensor(45., dtype=torch.float64)\n"
     ]
    }
   ],
   "source": [
    "x = torch.arange(0,100,10)\n",
    "# print(x.mean())\n",
    "print(torch.mean(x.type(torch.float64)))"
   ]
  },
  {
   "cell_type": "markdown",
   "metadata": {},
   "source": [
    "### Reshaping stacking, squeezing, unsqueezing, view, permute"
   ]
  },
  {
   "cell_type": "code",
   "execution_count": 143,
   "metadata": {},
   "outputs": [
    {
     "data": {
      "text/plain": [
       "(tensor([1., 2., 3., 4., 5., 6., 7., 8., 9.]), torch.Size([9]))"
      ]
     },
     "execution_count": 143,
     "metadata": {},
     "output_type": "execute_result"
    }
   ],
   "source": [
    "import torch\n",
    "x = torch.arange(1.0,10.0)\n",
    "x, x.shape"
   ]
  },
  {
   "cell_type": "code",
   "execution_count": 144,
   "metadata": {},
   "outputs": [
    {
     "data": {
      "text/plain": [
       "tensor([[1., 2., 3.],\n",
       "        [4., 5., 6.],\n",
       "        [7., 8., 9.]])"
      ]
     },
     "execution_count": 144,
     "metadata": {},
     "output_type": "execute_result"
    }
   ],
   "source": [
    "x_reshape = x.reshape(3,3)\n",
    "x_reshape"
   ]
  },
  {
   "cell_type": "code",
   "execution_count": 145,
   "metadata": {},
   "outputs": [
    {
     "name": "stdout",
     "output_type": "stream",
     "text": [
      "tensor([1., 2., 3., 4., 5., 6., 7., 8., 9.])\n",
      "tensor([[1., 2., 3., 4., 5., 6., 7., 8., 9.],\n",
      "        [1., 2., 3., 4., 5., 6., 7., 8., 9.]])\n",
      "torch.Size([9])\n",
      "torch.Size([2, 9])\n",
      "tensor([[1., 1.],\n",
      "        [2., 2.],\n",
      "        [3., 3.],\n",
      "        [4., 4.],\n",
      "        [5., 5.],\n",
      "        [6., 6.],\n",
      "        [7., 7.],\n",
      "        [8., 8.],\n",
      "        [9., 9.]])\n",
      "torch.Size([9, 2])\n"
     ]
    }
   ],
   "source": [
    "x_stacked = torch.stack([x,x],dim=0)\n",
    "print(x)\n",
    "print(x_stacked)\n",
    "print(x.shape)\n",
    "print(x_stacked.shape)\n",
    "x_stacked_dim1 = torch.stack([x,x],dim=1)\n",
    "print(x_stacked_dim1)\n",
    "print(x_stacked_dim1.shape)"
   ]
  },
  {
   "cell_type": "code",
   "execution_count": 146,
   "metadata": {},
   "outputs": [
    {
     "name": "stdout",
     "output_type": "stream",
     "text": [
      "tensor([[0.5710, 0.4608, 0.8814, 0.9251, 0.2980, 0.6212, 0.1272, 0.9698, 0.7267,\n",
      "         0.6431],\n",
      "        [0.3466, 0.1187, 0.5686, 0.4823, 0.7226, 0.5607, 0.4672, 0.5184, 0.0486,\n",
      "         0.4226]])\n",
      "torch.Size([2, 10])\n",
      "tensor([[0.5710, 0.4608, 0.8814, 0.9251, 0.2980, 0.6212, 0.1272, 0.9698, 0.7267,\n",
      "         0.6431],\n",
      "        [0.3466, 0.1187, 0.5686, 0.4823, 0.7226, 0.5607, 0.4672, 0.5184, 0.0486,\n",
      "         0.4226]])\n",
      "torch.Size([2, 10])\n",
      "tensor([[[0.5710, 0.4608, 0.8814, 0.9251, 0.2980, 0.6212, 0.1272, 0.9698,\n",
      "          0.7267, 0.6431]],\n",
      "\n",
      "        [[0.3466, 0.1187, 0.5686, 0.4823, 0.7226, 0.5607, 0.4672, 0.5184,\n",
      "          0.0486, 0.4226]]])\n",
      "torch.Size([2, 1, 10])\n",
      "tensor([[[0.5710],\n",
      "         [0.3466]],\n",
      "\n",
      "        [[0.4608],\n",
      "         [0.1187]],\n",
      "\n",
      "        [[0.8814],\n",
      "         [0.5686]],\n",
      "\n",
      "        [[0.9251],\n",
      "         [0.4823]],\n",
      "\n",
      "        [[0.2980],\n",
      "         [0.7226]],\n",
      "\n",
      "        [[0.6212],\n",
      "         [0.5607]],\n",
      "\n",
      "        [[0.1272],\n",
      "         [0.4672]],\n",
      "\n",
      "        [[0.9698],\n",
      "         [0.5184]],\n",
      "\n",
      "        [[0.7267],\n",
      "         [0.0486]],\n",
      "\n",
      "        [[0.6431],\n",
      "         [0.4226]]])\n"
     ]
    }
   ],
   "source": [
    "x_ran = torch.rand(2,10)\n",
    "print(x_ran)\n",
    "print(x_ran.shape)\n",
    "x_squeeze = x_ran.squeeze()\n",
    "print(x_squeeze)\n",
    "print(x_squeeze.shape)\n",
    "x_unsqueeze = x_ran.unsqueeze(1)\n",
    "print(x_unsqueeze)\n",
    "print(x_unsqueeze.shape)\n",
    "print(x_unsqueeze.permute(2,0,1))"
   ]
  },
  {
   "cell_type": "markdown",
   "metadata": {},
   "source": []
  },
  {
   "cell_type": "markdown",
   "metadata": {},
   "source": [
    "### Reproduciblity\n",
    "### Indexing\n"
   ]
  },
  {
   "cell_type": "code",
   "execution_count": 147,
   "metadata": {},
   "outputs": [
    {
     "name": "stdout",
     "output_type": "stream",
     "text": [
      "tensor([[[1, 2, 3],\n",
      "         [4, 5, 6],\n",
      "         [7, 8, 9]]])\n"
     ]
    }
   ],
   "source": [
    "x = torch.arange(1,10).reshape(1,3,3)\n",
    "print(x)"
   ]
  },
  {
   "cell_type": "code",
   "execution_count": 148,
   "metadata": {},
   "outputs": [
    {
     "data": {
      "text/plain": [
       "tensor([[1, 2, 3],\n",
       "        [4, 5, 6],\n",
       "        [7, 8, 9]])"
      ]
     },
     "execution_count": 148,
     "metadata": {},
     "output_type": "execute_result"
    }
   ],
   "source": [
    "x[0]"
   ]
  },
  {
   "cell_type": "code",
   "execution_count": 149,
   "metadata": {},
   "outputs": [
    {
     "data": {
      "text/plain": [
       "tensor([1, 2, 3])"
      ]
     },
     "execution_count": 149,
     "metadata": {},
     "output_type": "execute_result"
    }
   ],
   "source": [
    "x[0][0]"
   ]
  },
  {
   "cell_type": "code",
   "execution_count": 150,
   "metadata": {},
   "outputs": [
    {
     "data": {
      "text/plain": [
       "tensor([1, 2, 3])"
      ]
     },
     "execution_count": 150,
     "metadata": {},
     "output_type": "execute_result"
    }
   ],
   "source": [
    "x[0,0,:]"
   ]
  },
  {
   "cell_type": "code",
   "execution_count": 151,
   "metadata": {},
   "outputs": [],
   "source": [
    "import numpy as np\n",
    "ndarray = np.arange(1,10)"
   ]
  },
  {
   "cell_type": "code",
   "execution_count": 152,
   "metadata": {},
   "outputs": [
    {
     "name": "stdout",
     "output_type": "stream",
     "text": [
      "tensor([1, 2, 3, 4, 5, 6, 7, 8, 9])\n"
     ]
    }
   ],
   "source": [
    "tensor = torch.from_numpy(ndarray)\n",
    "print(tensor)"
   ]
  },
  {
   "cell_type": "code",
   "execution_count": 153,
   "metadata": {},
   "outputs": [],
   "source": [
    "RANDOM_SEED = 42\n",
    "torch.manual_seed(RANDOM_SEED)\n",
    "random_tensor_C = torch.rand(5)\n",
    "RANDOM_SEED = 42\n",
    "torch.manual_seed(RANDOM_SEED)\n",
    "random_tensor_D = torch.rand(5)"
   ]
  },
  {
   "cell_type": "code",
   "execution_count": 154,
   "metadata": {},
   "outputs": [
    {
     "data": {
      "text/plain": [
       "tensor([True, True, True, True, True])"
      ]
     },
     "execution_count": 154,
     "metadata": {},
     "output_type": "execute_result"
    }
   ],
   "source": [
    "random_tensor_C == random_tensor_D"
   ]
  },
  {
   "cell_type": "code",
   "execution_count": 155,
   "metadata": {},
   "outputs": [
    {
     "name": "stdout",
     "output_type": "stream",
     "text": [
      "cuda\n"
     ]
    }
   ],
   "source": [
    "import torch\n",
    "torch.cuda.is_available()\n",
    "device = 'cuda' if torch.cuda.is_available() else 'cpu'\n",
    "print(device)\n",
    "torch.cuda.device_count()\n",
    "tensor = torch.tensor([1,2,3])\n",
    "tensor_on_gpu = tensor.to(device)\n",
    "tensor_on_cpu = tensor_on_gpu.cpu()"
   ]
  },
  {
   "cell_type": "code",
   "execution_count": null,
   "metadata": {},
   "outputs": [],
   "source": [
    "import torch\n",
    "torch.cuda.is_available()\n",
    "device = 'cuda' if torch.cuda.is_available() else 'cpu'\n"
   ]
  },
  {
   "cell_type": "code",
   "execution_count": null,
   "metadata": {},
   "outputs": [],
   "source": []
  },
  {
   "cell_type": "code",
   "execution_count": null,
   "metadata": {},
   "outputs": [],
   "source": []
  }
 ],
 "metadata": {
  "kernelspec": {
   "display_name": "t5env",
   "language": "python",
   "name": "python3"
  },
  "language_info": {
   "codemirror_mode": {
    "name": "ipython",
    "version": 3
   },
   "file_extension": ".py",
   "mimetype": "text/x-python",
   "name": "python",
   "nbconvert_exporter": "python",
   "pygments_lexer": "ipython3",
   "version": "3.8.9"
  },
  "orig_nbformat": 4
 },
 "nbformat": 4,
 "nbformat_minor": 2
}
